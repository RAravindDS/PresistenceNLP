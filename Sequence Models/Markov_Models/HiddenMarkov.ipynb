{
 "cells": [
  {
   "cell_type": "markdown",
   "id": "d6b66726-3e59-40db-8d9d-9a665fcfd6fe",
   "metadata": {},
   "source": [
    "In the markov model, the current and future states or given, if the state or not given that is called **HIdden markov models**, we need to find the states and then find the future probabilities. "
   ]
  },
  {
   "cell_type": "markdown",
   "id": "3cb81b4b-840e-4972-a6cb-26187234e0e2",
   "metadata": {},
   "source": [
    "[**Refer This**](https://www.youtube.com/watch?v=irRCDQQtTh8)"
   ]
  },
  {
   "cell_type": "code",
   "execution_count": null,
   "id": "8177b7e8-1e25-48f0-a4ff-67753e68d68c",
   "metadata": {},
   "outputs": [],
   "source": []
  }
 ],
 "metadata": {
  "kernelspec": {
   "display_name": "Python 3 (ipykernel)",
   "language": "python",
   "name": "python3"
  },
  "language_info": {
   "codemirror_mode": {
    "name": "ipython",
    "version": 3
   },
   "file_extension": ".py",
   "mimetype": "text/x-python",
   "name": "python",
   "nbconvert_exporter": "python",
   "pygments_lexer": "ipython3",
   "version": "3.9.7"
  }
 },
 "nbformat": 4,
 "nbformat_minor": 5
}
